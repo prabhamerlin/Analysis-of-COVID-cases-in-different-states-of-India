{
 "cells": [
  {
   "cell_type": "code",
   "execution_count": 3,
   "metadata": {},
   "outputs": [],
   "source": [
    "import pandas as pd\n",
    "import plotly.express as px\n",
    "import numpy as np\n",
    "import json\n",
    "import matplotlib.pyplot as plt\n",
    "import plotly.io as pio\n",
    "import pymongo\n",
    "pio.renderers.default = 'browser'\n",
    "errors=np.seterr(divide = 'ignore') \n",
    "%matplotlib inline"
   ]
  },
  {
   "cell_type": "code",
   "execution_count": 4,
   "metadata": {},
   "outputs": [],
   "source": [
    "myclient = pymongo.MongoClient(\"mongodb://localhost:27017/\")\n",
    "db = myclient.Jcomp\n",
    "states_to_drop=['Unassigned','Dadra and Nagar Haveli and Daman and Diu','Cases being reassigned to states','Telangana','Ladakh']\n",
    "Dates_to_use=[\"2020-04-01\",\"2020-05-01\",\"2020-06-01\",\"2020-07-01\",\"2020-08-01\",\"2020-09-01\",\"2020-10-01\",\n",
    "              \"2020-11-01\",\"2020-12-01\",\"2021-01-01\",\"2021-02-01\",\"2021-03-01\",\"2021-04-01\",\"2021-05-01\"]\n",
    "query1={\"$match\":{\"$and\":[{\"State/UnionTerritory\":{\"$nin\":states_to_drop}},{\"Date\":{\"$in\":Dates_to_use}}]}}\n",
    "query2={\"$project\":{\"_id\":0,\"Date\":1,\"State/UnionTerritory\":1,\"Cured\":1,\"Deaths\":1,\"Confirmed\":1}}\n",
    "df=pd.DataFrame(list(db.covid_acc.aggregate([query1,query2])))\n",
    "df[\"Confirmed_log\"]=np.log10(df[\"Confirmed\"])\n",
    "df[\"Cured_log\"]=np.log10(df[\"Cured\"])\n",
    "df[\"Deaths_log\"]=np.log10(df[\"Deaths\"])"
   ]
  },
  {
   "cell_type": "code",
   "execution_count": 5,
   "metadata": {},
   "outputs": [],
   "source": [
    "india_states = json.load(open(\"states_india.geojson\",'r'))\n",
    "state_id_map = {}\n",
    "for feature in india_states[\"features\"]:\n",
    "    feature[\"id\"] = feature[\"properties\"][\"state_code\"]\n",
    "    state_id_map[feature[\"properties\"][\"st_nm\"]] = feature[\"id\"]\n",
    "df[\"id\"] = df[\"State/UnionTerritory\"].apply(lambda x: state_id_map[x])"
   ]
  },
  {
   "cell_type": "code",
   "execution_count": 6,
   "metadata": {},
   "outputs": [],
   "source": [
    "fig= px.choropleth(\n",
    "    df,\n",
    "    locations=\"id\",\n",
    "    geojson=india_states,\n",
    "    color=\"Confirmed_log\",\n",
    "    hover_name=\"State/UnionTerritory\",\n",
    "    hover_data=[\"Confirmed\"],\n",
    "    title=\"India Confirmed cases map\",\n",
    "    fitbounds=\"locations\",\n",
    "    animation_frame='Date'\n",
    ")\n",
    "fig.update_geos(fitbounds=\"locations\", visible=False)\n",
    "fig.show()"
   ]
  },
  {
   "cell_type": "code",
   "execution_count": 139,
   "metadata": {},
   "outputs": [],
   "source": [
    "fig = px.choropleth(\n",
    "    df,\n",
    "    locations=\"id\",\n",
    "    geojson=india_states,\n",
    "    color=\"Cured_log\",\n",
    "    hover_name=\"State/UnionTerritory\",\n",
    "    hover_data=[\"Cured\"],\n",
    "    title=\"India Cured cases map\",\n",
    "    fitbounds=\"locations\",\n",
    "    animation_frame='Date'\n",
    ")\n",
    "fig.update_geos(fitbounds=\"locations\", visible=False)\n",
    "fig.show()"
   ]
  },
  {
   "cell_type": "code",
   "execution_count": 140,
   "metadata": {},
   "outputs": [],
   "source": [
    "fig = px.choropleth(\n",
    "    df,\n",
    "    locations=\"id\",\n",
    "    geojson=india_states,\n",
    "    color=\"Deaths_log\",\n",
    "    hover_name=\"State/UnionTerritory\",\n",
    "    hover_data=[\"Deaths\"],\n",
    "    title=\"India Death cases map\",\n",
    "    fitbounds=\"locations\",\n",
    "    animation_frame='Date'\n",
    ")\n",
    "fig.update_geos(fitbounds=\"locations\", visible=False)\n",
    "fig.show()"
   ]
  },
  {
   "cell_type": "code",
   "execution_count": null,
   "metadata": {},
   "outputs": [],
   "source": []
  }
 ],
 "metadata": {
  "kernelspec": {
   "display_name": "Python 3",
   "language": "python",
   "name": "python3"
  },
  "language_info": {
   "codemirror_mode": {
    "name": "ipython",
    "version": 3
   },
   "file_extension": ".py",
   "mimetype": "text/x-python",
   "name": "python",
   "nbconvert_exporter": "python",
   "pygments_lexer": "ipython3",
   "version": "3.8.3"
  }
 },
 "nbformat": 4,
 "nbformat_minor": 4
}
